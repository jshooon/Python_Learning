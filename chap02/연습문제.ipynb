{
 "cells": [
  {
   "cell_type": "markdown",
   "id": "2899ad22",
   "metadata": {},
   "source": [
    "# 연습문제"
   ]
  },
  {
   "cell_type": "markdown",
   "id": "d2e9ad2a",
   "metadata": {},
   "source": [
    "### [문제1] 조건문을 이용한 '짐의 무게 계산하기'\n",
    "* A형 : 항공사에서는 짐을 부칠 때, 10kg 이상이면 수수료 10,000원을 내야한다.\n",
    "  만약 10kg 미만이면 수수료는 없다. 사용자의 짐의 무게를 키보드로 입력 받아서\n",
    "  사용자가 지불하여야 할 금액을 계산하는 프로그램을 작성하시오."
   ]
  },
  {
   "cell_type": "markdown",
   "id": "ea899a69",
   "metadata": {},
   "source": [
    "### 출력 결과 예시\n",
    "짐의 무게는 얼마입니까 ? 8\n",
    "수수료는 없습니다.\n",
    "\n",
    "짐의 무게는 얼마입니까? 15\n",
    "수수료는 10,000원 입니다."
   ]
  },
  {
   "cell_type": "code",
   "execution_count": 7,
   "id": "e089d673",
   "metadata": {},
   "outputs": [
    {
     "name": "stdout",
     "output_type": "stream",
     "text": [
      "짐의 무게는 얼마입니까?12\n",
      "수수료는 10,000원 입니다.\n"
     ]
    }
   ],
   "source": [
    "weight = int(input('짐의 무게는 얼마입니까?'))\n",
    "\n",
    "if weight >= 10 : \n",
    "    print('수수료는 10,000원 입니다.')\n",
    "else :\n",
    "    print('수수료는 없습니다.')"
   ]
  },
  {
   "cell_type": "markdown",
   "id": "035b6588",
   "metadata": {},
   "source": [
    "* B형 : 항공사에서는 짐을 부칠 때, 10kg이상 부터 수수료를 내야한다. \n",
    "    수수료는 10의 배수 단위로 10,000원씩 증가한다. 만약 10kg 미만이면 수수료는 없다.\n",
    "    사용자의 짐의 무게를 키보드로 입력받고, 사용자가 지불하여야 할 금액을 계산하는 \n",
    "    프로그램을 작성하시오."
   ]
  },
  {
   "cell_type": "markdown",
   "id": "8c3c1d1c",
   "metadata": {},
   "source": [
    "### 출력 결과 예시\n",
    "짐의 무게는 얼마입니까? 8\n",
    "수수료는 없습니다.\n",
    "\n",
    "짐의 무게는 얼마입니까? 15\n",
    "수수료는 10,000원 입니다.\n",
    "\n",
    "짐의 무게는 얼마입니까? 21\n",
    "수수료는 20,000원 입니다."
   ]
  },
  {
   "cell_type": "code",
   "execution_count": 15,
   "id": "5dce6239",
   "metadata": {},
   "outputs": [
    {
     "name": "stdout",
     "output_type": "stream",
     "text": [
      "짐의 무게는 얼마입니까?54\n",
      "수수료는 50,000입니다.\n"
     ]
    }
   ],
   "source": [
    "weight = int(input('짐의 무게는 얼마입니까?'))\n",
    "\n",
    "if weight >= 10 :\n",
    "    price = (weight // 10) * 10000\n",
    "    # price = int(w / 10) * 10000\n",
    "    print('수수료는 ' + format(price, '3,d') + '입니다.')\n",
    "else :\n",
    "    print('수수료는 없습니다.')"
   ]
  },
  {
   "cell_type": "markdown",
   "id": "5e596dc8",
   "metadata": {},
   "source": [
    "### [문제2] while 반복문을 이용한 '숫자 맞추기 게임'\n",
    "* 컴퓨터에 의해서 1 ~ 10 사이의 난수가 발생될 때 사용자가 예상되는 숫자를 키보드를 입력한 경우 일치하면 '---성공---' 메시지를 출력하고, 반복을 탈출한다. 만약 사용자가 입력한 수가 난수 보다 더 크면 '더 작은 수 입력' 메시지를 출력하고, 반복을 계속한다. 또한 사용자가 입력한 수가 난수 보다 작으면 '더 큰 수 입력' 메시지를 출력하고, 반복을 계속한다. 위 내용이 실행될 수 있도록 프로그램의 빈칸을 채우시오."
   ]
  },
  {
   "cell_type": "code",
   "execution_count": 22,
   "id": "5d7f35d3",
   "metadata": {},
   "outputs": [
    {
     "name": "stdout",
     "output_type": "stream",
     "text": [
      ">>숫자 맞추기 게임<<\n",
      "예상 숫자를 입력하시오 : 8\n",
      "더 큰 수 입력\n",
      "예상 숫자를 입력하시오 : 6\n",
      "더 큰 수 입력\n",
      "예상 숫자를 입력하시오 : 7\n",
      "더 큰 수 입력\n",
      "예상 숫자를 입력하시오 : 9\n",
      "더 큰 수 입력\n",
      "예상 숫자를 입력하시오 : 10\n",
      "---성공---\n"
     ]
    }
   ],
   "source": [
    "import random as rd\n",
    "\n",
    "print('>>숫자 맞추기 게임<<')\n",
    "com = rd.randint(1,11) # 1~10 사이 난수 정수 발생\n",
    "\n",
    "while True :\n",
    "    my = int(input('예상 숫자를 입력하시오 : '))   # 숫자 입력\n",
    "    \n",
    "    if my > com : \n",
    "        print('더 작은 수 입력')\n",
    "    elif my < com :\n",
    "        print('더 큰 수 입력')\n",
    "    else :\n",
    "        print('---성공---')\n",
    "        break"
   ]
  },
  {
   "cell_type": "markdown",
   "id": "03d105c7",
   "metadata": {},
   "source": [
    "### [문제3] for 반복문을 이용한 '수열 출력하기'\n",
    "* 1 ~ 100 사이에서 3의 배수이면서 2의 배수가 아닌 수를 한줄에 출력하고, 누적합을 출력 하시오."
   ]
  },
  {
   "cell_type": "code",
   "execution_count": 23,
   "id": "b9377abd",
   "metadata": {},
   "outputs": [
    {
     "name": "stdout",
     "output_type": "stream",
     "text": [
      "수열 =  3 9 15 21 27 33 39 45 51 57 63 69 75 81 87 93 99 \n",
      "누적합 = 867 \n"
     ]
    }
   ],
   "source": [
    "tot = 0\n",
    "print('수열 = ', end = ' ')\n",
    "for i in range(1,101) :\n",
    "    if i % 3 == 0 and i % 2 != 0 : \n",
    "        print(i, end = ' ')\n",
    "        tot += i\n",
    "\n",
    "print('\\n누적합 = %d '% tot)"
   ]
  },
  {
   "cell_type": "markdown",
   "id": "0128f19a",
   "metadata": {},
   "source": [
    "### [문제4] 중첩 반복문을 이용한 '단어 카운트 하기(word count)'\n",
    "* 다음과 같은 multiline의 문자열 객체를 이용하여 단어를 추출하고 단어의 개수를 출력하시오"
   ]
  },
  {
   "cell_type": "code",
   "execution_count": 31,
   "id": "9a4d1d03",
   "metadata": {},
   "outputs": [],
   "source": [
    "multiline ='''안녕하세요. Python 세계로 오신걸\n",
    "환영합니다.\n",
    "파이썬은 비단뱀 처럼 매력적인 언어입니다.'''"
   ]
  },
  {
   "cell_type": "code",
   "execution_count": null,
   "id": "5738a015",
   "metadata": {},
   "outputs": [],
   "source": [
    "### 출력 결과\n",
    "안녕하세요.\n",
    "파이썬\n",
    "세계로\n",
    "오신걸\n",
    "환영합니다.\n",
    "파이썬은\n",
    "비단뱀\n",
    "처럼\n",
    "매력적인\n",
    "언어입니다.\n",
    "단어 개수 : 10"
   ]
  },
  {
   "cell_type": "code",
   "execution_count": 34,
   "id": "e316b559",
   "metadata": {},
   "outputs": [
    {
     "name": "stdout",
     "output_type": "stream",
     "text": [
      "안녕하세요.\n",
      "Python\n",
      "세계로\n",
      "오신걸\n",
      "환영합니다.\n",
      "파이썬은\n",
      "비단뱀\n",
      "처럼\n",
      "매력적인\n",
      "언어입니다.\n",
      "단어개수 :  10\n",
      "['안녕하세요. Python 세계로 오신걸', '환영합니다.', '파이썬은 비단뱀 처럼 매력적인 언어입니다.']\n",
      "['안녕하세요.', 'Python', '세계로', '오신걸', '환영합니다.', '파이썬은', '비단뱀', '처럼', '매력적인', '언어입니다.']\n"
     ]
    }
   ],
   "source": [
    "cnt = 0\n",
    "doc = []            # 빈 list : 줄 단위 저장\n",
    "word = []          # 빈 list : 단어 저장\n",
    "for line in multiline.split(sep='\\n') : \n",
    "    doc.append(line)       # 줄 단위 문장 추가\n",
    "    for w in line.split(sep=' ') : # 공백으로 분리\n",
    "        word.append(w)\n",
    "        cnt += 1\n",
    "        print(w)\n",
    "        \n",
    "print('단어개수 : ', cnt) # 단어수 출력\n",
    "print(doc)                 # 줄 단위 문장 출력\n",
    "print(word)               # 줄 단위 단어 출력"
   ]
  }
 ],
 "metadata": {
  "kernelspec": {
   "display_name": "Python 3 (ipykernel)",
   "language": "python",
   "name": "python3"
  },
  "language_info": {
   "codemirror_mode": {
    "name": "ipython",
    "version": 3
   },
   "file_extension": ".py",
   "mimetype": "text/x-python",
   "name": "python",
   "nbconvert_exporter": "python",
   "pygments_lexer": "ipython3",
   "version": "3.9.7"
  }
 },
 "nbformat": 4,
 "nbformat_minor": 5
}
