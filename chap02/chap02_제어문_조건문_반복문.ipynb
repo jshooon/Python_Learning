{
 "cells": [
  {
   "cell_type": "markdown",
   "id": "2d801617",
   "metadata": {},
   "source": [
    "# 2022.06.06 변수와 자료형"
   ]
  },
  {
   "cell_type": "markdown",
   "id": "9e023cb7",
   "metadata": {},
   "source": [
    "### 3.1 제어문,\n",
    "### 3.2 조건문\n",
    "### 3.2.1 단일 조건문\n",
    "* 단일조건문 형식1 예문"
   ]
  },
  {
   "cell_type": "code",
   "execution_count": null,
   "id": "5a0830c4",
   "metadata": {},
   "outputs": [],
   "source": [
    "var = 10                  # if 블럭에서 사용될 변수\n",
    "if var >= 5:              # 조건식\n",
    "    print('var = ', var)\n",
    "    print('var는 5보다 크다.')\n",
    "    print('조건이 참인 경우 실행')\n",
    "    \n",
    "print('항상 실행')"
   ]
  },
  {
   "cell_type": "markdown",
   "id": "e96da91f",
   "metadata": {},
   "source": [
    "* 단일 조건문 형식2 예문"
   ]
  },
  {
   "cell_type": "code",
   "execution_count": null,
   "id": "477e8ffe",
   "metadata": {},
   "outputs": [],
   "source": [
    "# 100 ~ 85 : '우수', 84 ~ 70 : '보통', 69이하 : '저조'\n",
    "score = int (input('점수 입력 : '))\n",
    "\n",
    "if score >= 85 and score <=100 :\n",
    "    print('우수')\n",
    "else :\n",
    "    if score >= 70 : \n",
    "        print('보통')\n",
    "    else :\n",
    "        print('저조')            # 69이하"
   ]
  },
  {
   "cell_type": "markdown",
   "id": "56b104f6",
   "metadata": {},
   "source": [
    "### 3.2.2 중첩 조건문\n",
    "* 중첩 조건문 예"
   ]
  },
  {
   "cell_type": "code",
   "execution_count": null,
   "id": "a0d753a6",
   "metadata": {},
   "outputs": [],
   "source": [
    "score = int (input('점수 입력 : '))\n",
    "grade = ' '                      #등급\n",
    "\n",
    "if score >= 85 and score <=100 :\n",
    "    grade = '우수'\n",
    "elif score >= 70 :\n",
    "    grade = '보통'\n",
    "else :\n",
    "    grade = '저조'            # 69이하\n",
    "    \n",
    "print('당신의 점수는 %d이고, 등급은 %s'%(score, grade))"
   ]
  },
  {
   "cell_type": "markdown",
   "id": "fe04352d",
   "metadata": {},
   "source": [
    "### 3.2.3 삼항 조건문\n",
    "* 삼항 조건문 예"
   ]
  },
  {
   "cell_type": "code",
   "execution_count": null,
   "id": "df6108a7",
   "metadata": {},
   "outputs": [],
   "source": [
    "# (1) 일반 조건문\n",
    "num = 9            # 초기화\n",
    "result = 0\n",
    "\n",
    "if num >= 5 :\n",
    "    result = num * 2\n",
    "else : \n",
    "    result = num + 2\n",
    "print('result = ', result)\n",
    "\n",
    "# (2) 3항 연산자\n",
    "# 형식) 변수 = 참 if (조건문) else 거짓\n",
    "result2 = num * 2 if num >= 5 else num + 2\n",
    "print('result2 = ', result2)"
   ]
  },
  {
   "cell_type": "markdown",
   "id": "d0f0a618",
   "metadata": {},
   "source": [
    "### 3.3 반복문\n",
    "### 3.3.1 while\n",
    "* while 반복문 예"
   ]
  },
  {
   "cell_type": "code",
   "execution_count": null,
   "id": "7e907cbc",
   "metadata": {},
   "outputs": [],
   "source": [
    "# (1) 카운터와 누적변수\n",
    "cnt = tot = 0           # 변수 초기화\n",
    "while cnt < 5 :         # True : loop 수행\n",
    "    cnt += 1             # 카운터 변수 (cnt = cnt + 1)\n",
    "    tot += cnt           # 누적변수 : tot = tot + cnt\n",
    "    print(cnt , tot)"
   ]
  },
  {
   "cell_type": "code",
   "execution_count": 1,
   "id": "15641a4e",
   "metadata": {},
   "outputs": [
    {
     "name": "stdout",
     "output_type": "stream",
     "text": [
      "1 ~ 100 사이 3의 배수 합 = 1683 \n",
      "dataset =  [3, 6, 9, 12, 15, 18, 21, 24, 27, 30, 33, 36, 39, 42, 45, 48, 51, 54, 57, 60, 63, 66, 69, 72, 75, 78, 81, 84, 87, 90, 93, 96, 99]\n"
     ]
    }
   ],
   "source": [
    "# [실습] 1 ~ 100 사이 3의 배수 합과 원소 추출하기\n",
    "cnt = tot = 0\n",
    "dataset = []           # 빈 list\n",
    "\n",
    "while cnt < 100 :    # 100회 반복\n",
    "    cnt += 1           # 카운터\n",
    "    if cnt % 3 == 0 : \n",
    "        tot += cnt     # 누적변수\n",
    "        dataset.append(cnt)      # cnt 추가\n",
    "\n",
    "print('1 ~ 100 사이 3의 배수 합 = %d ' % tot )\n",
    "print('dataset = ', dataset)"
   ]
  },
  {
   "cell_type": "markdown",
   "id": "03158e77",
   "metadata": {},
   "source": [
    "* 무한 루프(loop) 예"
   ]
  },
  {
   "cell_type": "code",
   "execution_count": 2,
   "id": "5549e3e2",
   "metadata": {
    "collapsed": true
   },
   "outputs": [
    {
     "name": "stdout",
     "output_type": "stream",
     "text": [
      "숫자 입력 : 4\n",
      "4\n",
      "숫자 입력 : 5\n",
      "5\n",
      "숫자 입력 : 4\n",
      "4\n",
      "숫자 입력 : 8\n",
      "8\n",
      "숫자 입력 : 6\n",
      "6\n",
      "숫자 입력 : 10\n",
      "프로그램 종료\n"
     ]
    }
   ],
   "source": [
    "# 무한 루프(loop)\n",
    "numData = []\n",
    "\n",
    "while True :\n",
    "    num = int(input('숫자 입력 : '))\n",
    "    \n",
    "    if num % 10 == 0 :            # exit 조건식\n",
    "        print('프로그램 종료')\n",
    "        break\n",
    "    else : \n",
    "        print(num)\n",
    "        numData.append(num)    # list 추가"
   ]
  },
  {
   "cell_type": "markdown",
   "id": "a3dcf6d8",
   "metadata": {},
   "source": [
    "### 3.3.2 random 모듈\n",
    "* random 관련 함수1 예"
   ]
  },
  {
   "cell_type": "code",
   "execution_count": 7,
   "id": "d85b69e8",
   "metadata": {},
   "outputs": [
    {
     "name": "stdout",
     "output_type": "stream",
     "text": [
      "r  =  0.46816853529694813\n"
     ]
    }
   ],
   "source": [
    "# (1) random module 추가\n",
    "import random as rd\n",
    "#help(rd)                  # 모듈 도움말\n",
    "\n",
    "# (2) random모듈의 함수 도움말\n",
    "#help(rd.random)\n",
    "\n",
    "# (3) 0 ~ 1 사이 난수 실수\n",
    "r = rd.random()\n",
    "print('r  = ', r)"
   ]
  },
  {
   "cell_type": "code",
   "execution_count": 59,
   "id": "43506ed4",
   "metadata": {},
   "outputs": [
    {
     "name": "stdout",
     "output_type": "stream",
     "text": [
      "난수 개수 =  165\n"
     ]
    }
   ],
   "source": [
    "# [실습] 난수 0.01 미만이면 종료 후 난수 개수 출력\n",
    "cnt = 0\n",
    "\n",
    "while True : \n",
    "    r = rd.random()\n",
    "    if r < 0.01 :\n",
    "        break        # loop exit\n",
    "    else : \n",
    "        cnt += 1\n",
    "print('난수 개수 = ', cnt)"
   ]
  },
  {
   "cell_type": "markdown",
   "id": "9fce4dd9",
   "metadata": {},
   "source": [
    "* random 관련 함수2 예"
   ]
  },
  {
   "cell_type": "code",
   "execution_count": 61,
   "id": "b083a0a9",
   "metadata": {
    "collapsed": true
   },
   "outputs": [
    {
     "name": "stdout",
     "output_type": "stream",
     "text": [
      "Help on method randint in module random:\n",
      "\n",
      "randint(a, b) method of random.Random instance\n",
      "    Return random integer in range [a, b], including both end points.\n",
      "\n",
      "Help on method choices in module random:\n",
      "\n",
      "choices(population, weights=None, *, cum_weights=None, k=1) method of random.Random instance\n",
      "    Return a k sized list of population elements chosen with replacement.\n",
      "    \n",
      "    If the relative weights or cumulative weights are not specified,\n",
      "    the selections are made with equal probability.\n",
      "\n",
      "['홍길동', '이순신', '유관순']\n",
      "유관순\n",
      "유관순 계심\n",
      "홍길동\n"
     ]
    }
   ],
   "source": [
    "# (1) random모듈 관련 함수 도움말\n",
    "help(rd.randint)\n",
    "help(rd.choices)     # 모집단에서 k 크기 목록 반환\n",
    "\n",
    "# (2) 이름 list에 전체 이름, 특정 이름 출력\n",
    "names = ['홍길동', '이순신', '유관순']\n",
    "print(names)       # 전체 이름\n",
    "print(names[2])    # , 특정 이름 출력\n",
    "\n",
    "# (3) list에서 자료 유무 확인하기\n",
    "if '유관순' in names :\n",
    "    print('유관순 계심')\n",
    "else :\n",
    "    print('유관순 안계심')\n",
    "    \n",
    "# (4) 난수 정수로 이름 선택하기\n",
    "idx = rd.randint(0, 2)\n",
    "print(names[idx])"
   ]
  },
  {
   "cell_type": "markdown",
   "id": "41aa6fd4",
   "metadata": {},
   "source": [
    "### 3.3.3 break, continue\n",
    "* break, continue 예"
   ]
  },
  {
   "cell_type": "code",
   "execution_count": 62,
   "id": "7e9f38fa",
   "metadata": {},
   "outputs": [
    {
     "name": "stdout",
     "output_type": "stream",
     "text": [
      "1 2 4 5 "
     ]
    }
   ],
   "source": [
    "i = 0\n",
    "while i < 10 :\n",
    "    i += 1             # 카운터\n",
    "    if i == 3 :\n",
    "        continue      # 다음 문장 skip\n",
    "    if i == 6 :         # 탈출 조건\n",
    "        break          # exit\n",
    "    print(i, end = ' ')"
   ]
  },
  {
   "cell_type": "markdown",
   "id": "f7249f3c",
   "metadata": {},
   "source": [
    "### 3.3.4 for\n",
    "* for 반복문 예"
   ]
  },
  {
   "cell_type": "code",
   "execution_count": 63,
   "id": "5566a414",
   "metadata": {},
   "outputs": [
    {
     "name": "stdout",
     "output_type": "stream",
     "text": [
      "3\n",
      "홍\n",
      "길\n",
      "동\n",
      "원소 :  1\n",
      "원소 :  2\n",
      "원소 :  3\n",
      "원소 :  4\n",
      "원소 :  5\n"
     ]
    }
   ],
   "source": [
    "# (1) 문자열 열거형객체 이용\n",
    "string = '홍길동'\n",
    "print(len(string))       # 문자 길이 : 3\n",
    "for s in string :        # 1문자 -> 변수 넘김 : 3\n",
    "    print(s)\n",
    "    \n",
    "# (2) list 열거형객체 이용\n",
    "lstset = [1,2,3,4,5] # 5개 원소를 갖는 열거형객체\n",
    "\n",
    "for e in lstset :\n",
    "    print('원소 : ', e)"
   ]
  },
  {
   "cell_type": "markdown",
   "id": "3f0cd250",
   "metadata": {},
   "source": [
    "### 3.3.5 for & range\n",
    "* range 클래스 예"
   ]
  },
  {
   "cell_type": "code",
   "execution_count": 64,
   "id": "2ae67bfd",
   "metadata": {},
   "outputs": [
    {
     "name": "stdout",
     "output_type": "stream",
     "text": [
      "num1 :  range(0, 10)\n",
      "num2 :  range(1, 10)\n",
      "num3 :  range(1, 10, 2)\n",
      "0 1 2 3 4 5 6 7 8 9 \n",
      "1 2 3 4 5 6 7 8 9 \n",
      "1 3 5 7 9 "
     ]
    }
   ],
   "source": [
    "# (1) range 객체 생성\n",
    "num1 = range(10)          # range(start)\n",
    "print('num1 : ', num1)\n",
    "num2 = range(1,10)        # range(start, stop)\n",
    "print('num2 : ', num2)\n",
    "num3 = range(1, 10, 2)    # range(start, stop, step)\n",
    "print('num3 : ', num3)\n",
    "\n",
    "# (2) range 객체 활용\n",
    "for n in num1 :\n",
    "    print(n, end = ' ')\n",
    "print()\n",
    "for n in num2 : \n",
    "    print(n, end = ' ')\n",
    "print()\n",
    "for n in num3 :\n",
    "    print(n, end = ' ')"
   ]
  },
  {
   "cell_type": "markdown",
   "id": "e151b0d7",
   "metadata": {},
   "source": [
    "### 3.3.6 for & list\n",
    "* list 자료구조 예"
   ]
  },
  {
   "cell_type": "code",
   "execution_count": 67,
   "id": "a566a798",
   "metadata": {},
   "outputs": [
    {
     "name": "stdout",
     "output_type": "stream",
     "text": [
      "lst =  [8, 2, 5, 9, 8, 10, 6, 6, 1, 3]\n",
      "2.0\n",
      "0.5\n",
      "1.25\n",
      "2.25\n",
      "2.0\n",
      "2.5\n",
      "1.5\n",
      "1.5\n",
      "0.25\n",
      "0.75\n"
     ]
    }
   ],
   "source": [
    "# (1) lsit에 자료 저장하기\n",
    "lst = []      # 빈 list 만들기\n",
    "for i in range(10) :           # 0 ~ 9\n",
    "    r = rd.randint(1,10)       # 난수 발생\n",
    "    lst.append(r)                # 난수 저장\n",
    "\n",
    "print('lst = ', lst)               # 난수 출력\n",
    "\n",
    "# (2) list에 자료 참조하기\n",
    "for i in range(10) :            # 0 ~ 9\n",
    "    print(lst[i] * 0.25)          # 난수 * 0.25"
   ]
  },
  {
   "cell_type": "markdown",
   "id": "c6893f37",
   "metadata": {},
   "source": [
    "### 3.3.7 중첩 반복문\n",
    "* 구구단 예"
   ]
  },
  {
   "cell_type": "code",
   "execution_count": 68,
   "id": "8a1746a4",
   "metadata": {
    "collapsed": true
   },
   "outputs": [
    {
     "name": "stdout",
     "output_type": "stream",
     "text": [
      "--- 2단 ---\n",
      "2 * 1 = 2 \n",
      "2 * 2 = 4 \n",
      "2 * 3 = 6 \n",
      "2 * 4 = 8 \n",
      "2 * 5 = 10 \n",
      "2 * 6 = 12 \n",
      "2 * 7 = 14 \n",
      "2 * 8 = 16 \n",
      "2 * 9 = 18 \n",
      "--- 3단 ---\n",
      "3 * 1 = 3 \n",
      "3 * 2 = 6 \n",
      "3 * 3 = 9 \n",
      "3 * 4 = 12 \n",
      "3 * 5 = 15 \n",
      "3 * 6 = 18 \n",
      "3 * 7 = 21 \n",
      "3 * 8 = 24 \n",
      "3 * 9 = 27 \n",
      "--- 4단 ---\n",
      "4 * 1 = 4 \n",
      "4 * 2 = 8 \n",
      "4 * 3 = 12 \n",
      "4 * 4 = 16 \n",
      "4 * 5 = 20 \n",
      "4 * 6 = 24 \n",
      "4 * 7 = 28 \n",
      "4 * 8 = 32 \n",
      "4 * 9 = 36 \n",
      "--- 5단 ---\n",
      "5 * 1 = 5 \n",
      "5 * 2 = 10 \n",
      "5 * 3 = 15 \n",
      "5 * 4 = 20 \n",
      "5 * 5 = 25 \n",
      "5 * 6 = 30 \n",
      "5 * 7 = 35 \n",
      "5 * 8 = 40 \n",
      "5 * 9 = 45 \n",
      "--- 6단 ---\n",
      "6 * 1 = 6 \n",
      "6 * 2 = 12 \n",
      "6 * 3 = 18 \n",
      "6 * 4 = 24 \n",
      "6 * 5 = 30 \n",
      "6 * 6 = 36 \n",
      "6 * 7 = 42 \n",
      "6 * 8 = 48 \n",
      "6 * 9 = 54 \n",
      "--- 7단 ---\n",
      "7 * 1 = 7 \n",
      "7 * 2 = 14 \n",
      "7 * 3 = 21 \n",
      "7 * 4 = 28 \n",
      "7 * 5 = 35 \n",
      "7 * 6 = 42 \n",
      "7 * 7 = 49 \n",
      "7 * 8 = 56 \n",
      "7 * 9 = 63 \n",
      "--- 8단 ---\n",
      "8 * 1 = 8 \n",
      "8 * 2 = 16 \n",
      "8 * 3 = 24 \n",
      "8 * 4 = 32 \n",
      "8 * 5 = 40 \n",
      "8 * 6 = 48 \n",
      "8 * 7 = 56 \n",
      "8 * 8 = 64 \n",
      "8 * 9 = 72 \n",
      "--- 9단 ---\n",
      "9 * 1 = 9 \n",
      "9 * 2 = 18 \n",
      "9 * 3 = 27 \n",
      "9 * 4 = 36 \n",
      "9 * 5 = 45 \n",
      "9 * 6 = 54 \n",
      "9 * 7 = 63 \n",
      "9 * 8 = 72 \n",
      "9 * 9 = 81 \n"
     ]
    }
   ],
   "source": [
    "# 구구단 출력 : range() 함수 이용\n",
    "\n",
    "# (1) 바같쪽 반복문\n",
    "for i in range(2, 10) :\n",
    "    print('--- {}단 ---'.format(i))\n",
    "    \n",
    "    # (2) 안쪽 반복문\n",
    "    for j in range(1, 10) :\n",
    "        print('%d * %d = %d '%(i, j , i*j))"
   ]
  },
  {
   "cell_type": "markdown",
   "id": "ce304539",
   "metadata": {},
   "source": [
    "* 문장과 단어 추출 예"
   ]
  },
  {
   "cell_type": "code",
   "execution_count": 69,
   "id": "ffe32477",
   "metadata": {},
   "outputs": [
    {
     "name": "stdout",
     "output_type": "stream",
     "text": [
      "문장 :  ['나는 홍길동 입니다.', '주소는 서울시 입니다.', '나이는 35세 입니다.']\n",
      "문장 수 :  3\n",
      "단어 :  ['나는', '홍길동', '입니다.', '주소는', '서울시', '입니다.', '나이는', '35세', '입니다.']\n",
      "단어 수 :  9\n"
     ]
    }
   ],
   "source": [
    "string = '''나는 홍길동 입니다.\n",
    "주소는 서울시 입니다.\n",
    "나이는 35세 입니다.'''\n",
    "\n",
    "sents = []  # 문장 저장\n",
    "words = [] # 단어 저장\n",
    "\n",
    "# (1) 문단 -> 문장\n",
    "for sen in string.split(sep = '\\n') : \n",
    "    sents.append(sen)\n",
    "    # (2) 문장 -> 단어\n",
    "    for word in sen.split() : \n",
    "        words.append(word)\n",
    "        \n",
    "print('문장 : ', sents)\n",
    "print('문장 수 : ', len(sents))\n",
    "print('단어 : ', words)\n",
    "print('단어 수 : ', len(words))"
   ]
  },
  {
   "cell_type": "code",
   "execution_count": null,
   "id": "dc901607",
   "metadata": {},
   "outputs": [],
   "source": []
  },
  {
   "cell_type": "code",
   "execution_count": null,
   "id": "cdf8318e",
   "metadata": {},
   "outputs": [],
   "source": []
  },
  {
   "cell_type": "code",
   "execution_count": null,
   "id": "ebaf9e6e",
   "metadata": {},
   "outputs": [],
   "source": []
  },
  {
   "cell_type": "code",
   "execution_count": null,
   "id": "c3878473",
   "metadata": {},
   "outputs": [],
   "source": []
  },
  {
   "cell_type": "code",
   "execution_count": null,
   "id": "86bd4fa9",
   "metadata": {},
   "outputs": [],
   "source": []
  },
  {
   "cell_type": "code",
   "execution_count": null,
   "id": "83043da5",
   "metadata": {},
   "outputs": [],
   "source": []
  },
  {
   "cell_type": "code",
   "execution_count": null,
   "id": "b0474372",
   "metadata": {},
   "outputs": [],
   "source": []
  },
  {
   "cell_type": "code",
   "execution_count": null,
   "id": "4fd444e9",
   "metadata": {},
   "outputs": [],
   "source": []
  },
  {
   "cell_type": "code",
   "execution_count": null,
   "id": "04ec5c3c",
   "metadata": {},
   "outputs": [],
   "source": []
  }
 ],
 "metadata": {
  "kernelspec": {
   "display_name": "Python 3 (ipykernel)",
   "language": "python",
   "name": "python3"
  },
  "language_info": {
   "codemirror_mode": {
    "name": "ipython",
    "version": 3
   },
   "file_extension": ".py",
   "mimetype": "text/x-python",
   "name": "python",
   "nbconvert_exporter": "python",
   "pygments_lexer": "ipython3",
   "version": "3.9.7"
  }
 },
 "nbformat": 4,
 "nbformat_minor": 5
}
