{
 "cells": [
  {
   "cell_type": "markdown",
   "id": "c58be90e",
   "metadata": {},
   "source": [
    "# 2022.06.02 변수와 자료형"
   ]
  },
  {
   "cell_type": "markdown",
   "id": "e36635e7",
   "metadata": {},
   "source": [
    "### 2.1.1 변수 \n",
    "* 변수와 메모리 주소(address) 예"
   ]
  },
  {
   "cell_type": "code",
   "execution_count": 1,
   "id": "12b2d8e5",
   "metadata": {},
   "outputs": [
    {
     "name": "stdout",
     "output_type": "stream",
     "text": [
      "Hello python\n",
      "2081605985008\n"
     ]
    }
   ],
   "source": [
    "var1 = \"Hello python\"\n",
    "print(var1)\n",
    "print( id(var1) )"
   ]
  },
  {
   "cell_type": "code",
   "execution_count": 2,
   "id": "a4cb93b4",
   "metadata": {},
   "outputs": [
    {
     "name": "stdout",
     "output_type": "stream",
     "text": [
      "100\n",
      "2081526404560\n"
     ]
    }
   ],
   "source": [
    "var1 = 100\n",
    "print(var1)\n",
    "print( id(var1) )"
   ]
  },
  {
   "cell_type": "code",
   "execution_count": 3,
   "id": "76e4551f",
   "metadata": {},
   "outputs": [
    {
     "name": "stdout",
     "output_type": "stream",
     "text": [
      "150.25\n",
      "2081605311632\n"
     ]
    }
   ],
   "source": [
    "var2 = 150.25\n",
    "print(var2)\n",
    "print(id(var2))"
   ]
  },
  {
   "cell_type": "code",
   "execution_count": 4,
   "id": "6be72815",
   "metadata": {
    "scrolled": false
   },
   "outputs": [
    {
     "name": "stdout",
     "output_type": "stream",
     "text": [
      "True\n",
      "140709057419368\n"
     ]
    }
   ],
   "source": [
    "var3 = True\n",
    "print(var3)\n",
    "print(id(var3))"
   ]
  },
  {
   "cell_type": "markdown",
   "id": "5589d701",
   "metadata": {},
   "source": [
    "### 파이썬 예약어 확인 예"
   ]
  },
  {
   "cell_type": "code",
   "execution_count": 6,
   "id": "84cad58d",
   "metadata": {},
   "outputs": [
    {
     "name": "stdout",
     "output_type": "stream",
     "text": [
      "['False', 'None', 'True', '__peg_parser__', 'and', 'as', 'assert', 'async', 'await', 'break', 'class', 'continue', 'def', 'del', 'elif', 'else', 'except', 'finally', 'for', 'from', 'global', 'if', 'import', 'in', 'is', 'lambda', 'nonlocal', 'not', 'or', 'pass', 'raise', 'return', 'try', 'while', 'with', 'yield']\n"
     ]
    }
   ],
   "source": [
    "# 예약어 확인\n",
    "import keyword # 모듈 임포트\n",
    "python_keyword = keyword.kwlist\n",
    "print(python_keyword)"
   ]
  },
  {
   "cell_type": "code",
   "execution_count": 7,
   "id": "56da2a3a",
   "metadata": {},
   "outputs": [
    {
     "name": "stdout",
     "output_type": "stream",
     "text": [
      "<class 'list'>\n",
      "36\n"
     ]
    }
   ],
   "source": [
    "print(type(python_keyword))\n",
    "print(len(python_keyword))"
   ]
  },
  {
   "cell_type": "markdown",
   "id": "089df4e9",
   "metadata": {},
   "source": [
    "### 2.1.2 자료형\n",
    "* 변수와 자료형 예"
   ]
  },
  {
   "cell_type": "code",
   "execution_count": 8,
   "id": "7a38e8b8",
   "metadata": {},
   "outputs": [
    {
     "name": "stdout",
     "output_type": "stream",
     "text": [
      "Hello python\n",
      "<class 'str'>\n"
     ]
    }
   ],
   "source": [
    "var1 = \"Hello python\"\n",
    "print(var1)\n",
    "print(type(var1))"
   ]
  },
  {
   "cell_type": "code",
   "execution_count": 9,
   "id": "e9313ca7",
   "metadata": {},
   "outputs": [
    {
     "name": "stdout",
     "output_type": "stream",
     "text": [
      "100\n",
      "<class 'int'>\n"
     ]
    }
   ],
   "source": [
    "var1 = 100\n",
    "print(var1)\n",
    "print(type(var1))"
   ]
  },
  {
   "cell_type": "code",
   "execution_count": 10,
   "id": "06a6bc30",
   "metadata": {},
   "outputs": [
    {
     "name": "stdout",
     "output_type": "stream",
     "text": [
      "150.25\n",
      "<class 'float'>\n"
     ]
    }
   ],
   "source": [
    "var2 = 150.25\n",
    "print(var2)\n",
    "print(type(var2))"
   ]
  },
  {
   "cell_type": "code",
   "execution_count": 11,
   "id": "635f1fb2",
   "metadata": {},
   "outputs": [
    {
     "name": "stdout",
     "output_type": "stream",
     "text": [
      "True\n",
      "<class 'bool'>\n"
     ]
    }
   ],
   "source": [
    "var3 = True\n",
    "print(var3)\n",
    "print(type(var3))"
   ]
  },
  {
   "cell_type": "markdown",
   "id": "da73530e",
   "metadata": {},
   "source": [
    "* 자료형 변환 예"
   ]
  },
  {
   "cell_type": "code",
   "execution_count": 12,
   "id": "c7572a2a",
   "metadata": {},
   "outputs": [
    {
     "name": "stdout",
     "output_type": "stream",
     "text": [
      "add =  30\n"
     ]
    }
   ],
   "source": [
    "# 실수 -> 정수\n",
    "a = int(10.5)\n",
    "b = int(20.42)\n",
    "add = a + b\n",
    "print('add = ', add)"
   ]
  },
  {
   "cell_type": "code",
   "execution_count": 13,
   "id": "ef4fceab",
   "metadata": {},
   "outputs": [
    {
     "name": "stdout",
     "output_type": "stream",
     "text": [
      "add2 =  30.0\n"
     ]
    }
   ],
   "source": [
    "# 정수 -> 실수\n",
    "a = float(10)\n",
    "b = float(20)\n",
    "add2 = a + b\n",
    "print('add2 = ', add2)"
   ]
  },
  {
   "cell_type": "code",
   "execution_count": 14,
   "id": "99047f71",
   "metadata": {},
   "outputs": [
    {
     "name": "stdout",
     "output_type": "stream",
     "text": [
      "1\n",
      "0\n"
     ]
    }
   ],
   "source": [
    "# 논리형 -> 정수\n",
    "print(int(True))     # 1\n",
    "print(int(False))    # 0"
   ]
  },
  {
   "cell_type": "code",
   "execution_count": 15,
   "id": "1a823edd",
   "metadata": {},
   "outputs": [
    {
     "name": "stdout",
     "output_type": "stream",
     "text": [
      "100\n"
     ]
    }
   ],
   "source": [
    "# 문자형 -> 정수\n",
    "st = '10'\n",
    "print(int(st) ** 2)   # 제곱 연산"
   ]
  },
  {
   "cell_type": "markdown",
   "id": "0868ece8",
   "metadata": {},
   "source": [
    "### 2.2 연산자(Operator)"
   ]
  },
  {
   "cell_type": "markdown",
   "id": "cb572e6a",
   "metadata": {},
   "source": [
    "### 2.2.1 산술연산자\n",
    "* 산술연산자 예"
   ]
  },
  {
   "cell_type": "code",
   "execution_count": 3,
   "id": "35aa4ee4",
   "metadata": {},
   "outputs": [],
   "source": [
    "num1 = 100 # 피연산자1\n",
    "num2 = 20  # 피연산자2"
   ]
  },
  {
   "cell_type": "code",
   "execution_count": 5,
   "id": "e59582fa",
   "metadata": {},
   "outputs": [
    {
     "name": "stdout",
     "output_type": "stream",
     "text": [
      "add =  120\n",
      "sub =  80\n",
      "mul =  2000\n",
      "div =  5.0\n",
      "div2 =  0\n",
      "square =  10000\n"
     ]
    }
   ],
   "source": [
    "add = num1 + num2     # 덧셈\n",
    "print('add = ', add)\n",
    "sub = num1 - num2     # 뺄셈\n",
    "print('sub = ', sub)\n",
    "mul = num1 * num2     # 곱셈\n",
    "print('mul = ', mul)\n",
    "div = num1 / num2     # 나눗셈\n",
    "print('div = ', div)\n",
    "div2 = num1 % num2    # 나머지 계산\n",
    "print('div2 = ', div2)\n",
    "square = num1**2      # 제곱 계산\n",
    "print('square = ', square)"
   ]
  },
  {
   "cell_type": "markdown",
   "id": "41b83f3e",
   "metadata": {},
   "source": [
    "### 2.2.2 관계연산자\n",
    "* 관계연산자 예"
   ]
  },
  {
   "cell_type": "code",
   "execution_count": 7,
   "id": "17f546d9",
   "metadata": {},
   "outputs": [
    {
     "name": "stdout",
     "output_type": "stream",
     "text": [
      "False\n",
      "True\n"
     ]
    }
   ],
   "source": [
    "# (1)  동등비교\n",
    "bool_result = num1 == num2 # 두 변수의 값이 같은지 비교\n",
    "print(bool_result)\n",
    "bool_result = num1 != num2 # 두 변수의 값이 다른지 비교\n",
    "print(bool_result)"
   ]
  },
  {
   "cell_type": "code",
   "execution_count": 8,
   "id": "35952d21",
   "metadata": {},
   "outputs": [
    {
     "name": "stdout",
     "output_type": "stream",
     "text": [
      "True\n",
      "True\n",
      "False\n",
      "False\n"
     ]
    }
   ],
   "source": [
    "# (2) 크기비교\n",
    "bool_result = num1 > num2 # num1값이 큰지 비교\n",
    "print(bool_result)\n",
    "bool_result = num1 >= num2 # num1값이 크거나 같은지 비교\n",
    "print(bool_result)\n",
    "bool_result = num1 < num2 # num2값이 큰지 비교\n",
    "print(bool_result)\n",
    "bool_result = num1 <= num2 # num2값이 크거나 같은지 비교\n",
    "print(bool_result)"
   ]
  },
  {
   "cell_type": "markdown",
   "id": "05d1a8ee",
   "metadata": {},
   "source": [
    "### 2.2.3 논리연산자\n",
    "* 논리연산자 예"
   ]
  },
  {
   "cell_type": "code",
   "execution_count": 9,
   "id": "acd58a73",
   "metadata": {},
   "outputs": [
    {
     "name": "stdout",
     "output_type": "stream",
     "text": [
      "False\n"
     ]
    }
   ],
   "source": [
    "# 두 관계식이 같은지 판단\n",
    "log_result = num1 >= 50 and num2 <= 10\n",
    "print(log_result)"
   ]
  },
  {
   "cell_type": "code",
   "execution_count": 11,
   "id": "cb796ba4",
   "metadata": {},
   "outputs": [
    {
     "name": "stdout",
     "output_type": "stream",
     "text": [
      "True\n",
      "True\n"
     ]
    }
   ],
   "source": [
    "# 두 관계식 중 하나라도 같은지 판단\n",
    "log_result = num1 >= 40 or num2 <=10\n",
    "print(log_result)\n",
    "\n",
    "log_result = num1 >=50 # 관계식 판단\n",
    "print(log_result)"
   ]
  },
  {
   "cell_type": "code",
   "execution_count": 12,
   "id": "68aca995",
   "metadata": {},
   "outputs": [
    {
     "name": "stdout",
     "output_type": "stream",
     "text": [
      "False\n"
     ]
    }
   ],
   "source": [
    "# 괄호 안의 관계식 판단 결과에 대한 부정\n",
    "log_result = not(num1 >= 50)\n",
    "print(log_result)"
   ]
  },
  {
   "cell_type": "markdown",
   "id": "93617e1e",
   "metadata": {},
   "source": [
    "### 2.2.4 대입연산자\n",
    "* 대입연산자 예"
   ]
  },
  {
   "cell_type": "code",
   "execution_count": 14,
   "id": "1a7cf7c4",
   "metadata": {},
   "outputs": [
    {
     "name": "stdout",
     "output_type": "stream",
     "text": [
      "11 21\n",
      "출력1 , 출력2\n"
     ]
    }
   ],
   "source": [
    "# (1) 변수에 값 할당(=)\n",
    "i = tot = 10 # i = 10; toto = 10\n",
    "i += 1       # i = i + 1\n",
    "tot += i     # tot = tot + i\n",
    "print(i, tot)\n",
    "# 같은 줄에 중복 출력\n",
    "print('출력1', end =' , ')  # end = '구분자'\n",
    "print('출력2')"
   ]
  },
  {
   "cell_type": "code",
   "execution_count": 15,
   "id": "1870d8b0",
   "metadata": {},
   "outputs": [
    {
     "name": "stdout",
     "output_type": "stream",
     "text": [
      "200 100\n"
     ]
    }
   ],
   "source": [
    "# (2) 변수 교체\n",
    "v1, v2 = 100,200\n",
    "v2, v1 = v1, v2\n",
    "print(v1, v2)    # 200 100"
   ]
  },
  {
   "cell_type": "code",
   "execution_count": 18,
   "id": "1e85c7b0",
   "metadata": {},
   "outputs": [
    {
     "name": "stdout",
     "output_type": "stream",
     "text": [
      "1 [2, 3, 4, 5]\n",
      "[1, 2, 3, 4] 5\n"
     ]
    }
   ],
   "source": [
    "# (3) 패킹(packing) 할당\n",
    "lst = [1,2,3,4,5]\n",
    "v1, *v2 = lst\n",
    "print(v1, v2)\n",
    "*v1, v2 = lst\n",
    "print(v1, v2)"
   ]
  },
  {
   "cell_type": "markdown",
   "id": "a755bda7",
   "metadata": {},
   "source": [
    "### 2.3 표준입출력장치"
   ]
  },
  {
   "cell_type": "markdown",
   "id": "5ec3545d",
   "metadata": {},
   "source": [
    "### 2.3.1 표준입력장치\n",
    "* 표준입력장치 예"
   ]
  },
  {
   "cell_type": "code",
   "execution_count": 22,
   "id": "3e1aa86d",
   "metadata": {},
   "outputs": [
    {
     "name": "stdout",
     "output_type": "stream",
     "text": [
      "숫자 입력 : 100\n",
      "num type :  <class 'str'>\n",
      "num =  100\n",
      "num =  100100\n"
     ]
    }
   ],
   "source": [
    "# (1) 문자형 숫자 입력\n",
    "num = input('숫자 입력 : ')\n",
    "print('num type : ', type(num)) # str타입\n",
    "print('num = ', num)\n",
    "print('num = ', num*2)"
   ]
  },
  {
   "cell_type": "code",
   "execution_count": 23,
   "id": "ae6b3548",
   "metadata": {},
   "outputs": [
    {
     "name": "stdout",
     "output_type": "stream",
     "text": [
      "숫자 입력 : 100\n",
      "num1 =  200\n"
     ]
    }
   ],
   "source": [
    "# (2) 문자형 숫자를 정수형으로 변환\n",
    "num1 = int( input('숫자 입력 : ' ) ) # str -> int(형변환)\n",
    "print('num1 = ', num1*2)"
   ]
  },
  {
   "cell_type": "code",
   "execution_count": 24,
   "id": "61bcac55",
   "metadata": {},
   "outputs": [
    {
     "name": "stdout",
     "output_type": "stream",
     "text": [
      "숫자 입력 : 200\n",
      "result =  300.0\n"
     ]
    }
   ],
   "source": [
    "# (3) 문자형 숫자를 실수형으로 변환\n",
    "num2 = float( input('숫자 입력 : ') ) # str -> float(형변환)\n",
    "result = num1 + num2 # 실수 = 정수 + 실수\n",
    "print('result = ', result)"
   ]
  },
  {
   "cell_type": "markdown",
   "id": "44581a5a",
   "metadata": {},
   "source": [
    "### 2.3.2 표준출력장치\n",
    "* 표준출력장치 예"
   ]
  },
  {
   "cell_type": "code",
   "execution_count": 26,
   "id": "99c3e65d",
   "metadata": {},
   "outputs": [
    {
     "name": "stdout",
     "output_type": "stream",
     "text": [
      "value =  150\n"
     ]
    }
   ],
   "source": [
    "# (1) value 인수\n",
    "print(\"value = \", 10 + 20 + 30 + 40 + 50)"
   ]
  },
  {
   "cell_type": "code",
   "execution_count": 27,
   "id": "c10c0459",
   "metadata": {},
   "outputs": [
    {
     "name": "stdout",
     "output_type": "stream",
     "text": [
      "010-1234-5678\n"
     ]
    }
   ],
   "source": [
    "# (2) sep 인수 : 값과 값을 특수문자로 구분\n",
    "print(\"010\", \"1234\", \"5678\", sep=\"-\")"
   ]
  },
  {
   "cell_type": "code",
   "execution_count": 28,
   "id": "4e51166e",
   "metadata": {},
   "outputs": [
    {
     "name": "stdout",
     "output_type": "stream",
     "text": [
      "value =  10 , vlaue =  20\n"
     ]
    }
   ],
   "source": [
    "# (3) end 인수\n",
    "print(\"value = \", 10, end = \" , \")\n",
    "print(\"vlaue = \", 20)"
   ]
  },
  {
   "cell_type": "markdown",
   "id": "9c0c5856",
   "metadata": {},
   "source": [
    "### 2.3.3 format과 양식문자\n",
    "* format과 양식문자 예"
   ]
  },
  {
   "cell_type": "code",
   "execution_count": 29,
   "id": "9e1906f4",
   "metadata": {},
   "outputs": [
    {
     "name": "stdout",
     "output_type": "stream",
     "text": [
      "원주율 =     3.142\n",
      "금액 =       10000\n",
      "금액 =  125,000\n"
     ]
    }
   ],
   "source": [
    "# (4) format() 함수 임수 : format(value, \"format\")\n",
    "print(\"원주율 = \", format(3.14159, \"8.3f\"))\n",
    "print(\"금액 = \", format(10000, \"10d\"))\n",
    "print(\"금액 = \", format(125000, \"3,d\"))"
   ]
  },
  {
   "cell_type": "code",
   "execution_count": 32,
   "id": "fa774e78",
   "metadata": {},
   "outputs": [
    {
     "name": "stdout",
     "output_type": "stream",
     "text": [
      "이름 : 홍길동, 나이 : 35, data = 125.46\n"
     ]
    }
   ],
   "source": [
    "# (5) 양식문자 인수 : print(\"%양식문자\" %(값))\n",
    "name = \"홍길동\"\n",
    "age = 35\n",
    "price = 125.456\n",
    "print(\"이름 : %s, 나이 : %d, data = %.2f\" %(name, age, price))"
   ]
  },
  {
   "cell_type": "markdown",
   "id": "980d5f55",
   "metadata": {},
   "source": [
    "### 2.3.4 외부상수 출력\n",
    "* 외부상수 출력 예"
   ]
  },
  {
   "cell_type": "code",
   "execution_count": 33,
   "id": "835f10af",
   "metadata": {},
   "outputs": [
    {
     "name": "stdout",
     "output_type": "stream",
     "text": [
      "이름 : 홍길동, 나이 : 35, data = 125.456\n",
      "이름 : 홍길동, 나이 : 35, data = 125.456\n"
     ]
    }
   ],
   "source": [
    "# (6) 외부 상수 인수\n",
    "print(\"이름 : {}, 나이 : {}, data = {}\".format(name,age,price))\n",
    "print(\"이름 : {1}, 나이 : {0}, data = {2}\".format(age,name,price))"
   ]
  },
  {
   "cell_type": "code",
   "execution_count": 35,
   "id": "8c89b0fb",
   "metadata": {},
   "outputs": [
    {
     "name": "stdout",
     "output_type": "stream",
     "text": [
      "id input : ji\n",
      "SELECT * FROM member WHERE uid = ji\n"
     ]
    }
   ],
   "source": [
    "# (7) format 축약형(SQL문 작성)\n",
    "uid = input(\"id input : \")\n",
    "query = f\"SELECT * FROM member WHERE uid = {uid}\"\n",
    "print(query) # member 테이블에서 uid가 hong인 레코드 검색"
   ]
  },
  {
   "cell_type": "markdown",
   "id": "da334826",
   "metadata": {},
   "source": [
    "### 2.4 문자열(String)\n",
    "* 문자열 유형 예"
   ]
  },
  {
   "cell_type": "code",
   "execution_count": 36,
   "id": "4492ad0c",
   "metadata": {},
   "outputs": [
    {
     "name": "stdout",
     "output_type": "stream",
     "text": [
      "this is one line string\n",
      "this is\n",
      "multi line\n",
      "string\n",
      "this is \n",
      "multi line\n",
      "string\n"
     ]
    }
   ],
   "source": [
    "# 문자열 유형\n",
    "oneLine = \"this is one line string\"\n",
    "print(oneLine)\n",
    "\n",
    "multiLine = \"\"\"this is\n",
    "multi line\n",
    "string\"\"\"\n",
    "print(multiLine)\n",
    "\n",
    "multiLine2 = \"this is \\nmulti line\\nstring\"\n",
    "print(multiLine2)"
   ]
  },
  {
   "cell_type": "markdown",
   "id": "935064aa",
   "metadata": {},
   "source": [
    "### 2.4.1 문자열 특징\n",
    "* 문자열 색인과 연산 예"
   ]
  },
  {
   "cell_type": "code",
   "execution_count": 38,
   "id": "937d4716",
   "metadata": {},
   "outputs": [
    {
     "name": "stdout",
     "output_type": "stream",
     "text": [
      "P\n",
      "N\n",
      "N\n",
      "P\n"
     ]
    }
   ],
   "source": [
    "# (1) 문자열 색인\n",
    "string = \"PYTHON\"\n",
    "print(string[0])\n",
    "print(string[5])\n",
    "print(string[-1])\n",
    "print(string[-6])"
   ]
  },
  {
   "cell_type": "code",
   "execution_count": 42,
   "id": "3385fc12",
   "metadata": {},
   "outputs": [
    {
     "name": "stdout",
     "output_type": "stream",
     "text": [
      "python program\n",
      "python-3.7.exe\n",
      "------------------------------\n"
     ]
    }
   ],
   "source": [
    "# (1) 문자열 연산\n",
    "print(\"python\" + \" program\") # 결합연산자\n",
    "# print(\"python-\" + 3.7 + \".exe\") # error\n",
    "print(\"python-\" + str(3.7) + \".exe\") # python-3.7.exe\n",
    "\n",
    "print(\"-\"*30) # 반복연산자"
   ]
  },
  {
   "cell_type": "markdown",
   "id": "dd2b9a27",
   "metadata": {},
   "source": [
    "### 2.4.2 슬라이싱(slicing)\n",
    "* 슬라이싱 예"
   ]
  },
  {
   "cell_type": "code",
   "execution_count": 43,
   "id": "11d09b08",
   "metadata": {},
   "outputs": [
    {
     "name": "stdout",
     "output_type": "stream",
     "text": [
      "this is one line string\n",
      "문자열 길이 :  23\n",
      "this\n",
      "this\n",
      "this is one line string\n",
      "ti soeln tig\n"
     ]
    }
   ],
   "source": [
    "# (1) 왼쪽 기준\n",
    "print(oneLine)\n",
    "print(\"문자열 길이 : \", len(oneLine))\n",
    "print(oneLine[0:4])\n",
    "print(oneLine[:4])\n",
    "print(oneLine[:])   # 전체 원소\n",
    "print(oneLine[::2]) # 2의 배수 index"
   ]
  },
  {
   "cell_type": "code",
   "execution_count": 44,
   "id": "87d487d2",
   "metadata": {
    "scrolled": true
   },
   "outputs": [
    {
     "name": "stdout",
     "output_type": "stream",
     "text": [
      "this is one line string\n",
      "ti soeln ti\n",
      "strin\n",
      "string\n"
     ]
    }
   ],
   "source": [
    "# (2) 오른쪽 기준\n",
    "print(oneLine)\n",
    "print(oneLine[0:-1:2])\n",
    "print(oneLine[-6:-1])\n",
    "print(oneLine[-6:])"
   ]
  },
  {
   "cell_type": "code",
   "execution_count": 46,
   "id": "fc4f7648",
   "metadata": {},
   "outputs": [
    {
     "name": "stdout",
     "output_type": "stream",
     "text": [
      "this is one line string\n",
      "line string\n"
     ]
    }
   ],
   "source": [
    "# (3) 부분 문자열 생성\n",
    "print(oneLine)\n",
    "subString = oneLine[-11:]\n",
    "print(subString)"
   ]
  },
  {
   "cell_type": "markdown",
   "id": "42d61b77",
   "metadata": {},
   "source": [
    "### 2.4.3 문자열 처리 함수\n",
    "* 문자열 처리 함수 예"
   ]
  },
  {
   "cell_type": "code",
   "execution_count": 47,
   "id": "0a9b6312",
   "metadata": {},
   "outputs": [
    {
     "name": "stdout",
     "output_type": "stream",
     "text": [
      "t 글자 수 :  2\n"
     ]
    }
   ],
   "source": [
    "# (1) 특정 글자 수 반환\n",
    "oneLine = \"this is one line string\"\n",
    "print('t 글자 수 : ', oneLine.count('t'))"
   ]
  },
  {
   "cell_type": "code",
   "execution_count": 48,
   "id": "979d1d52",
   "metadata": {},
   "outputs": [
    {
     "name": "stdout",
     "output_type": "stream",
     "text": [
      "True\n",
      "False\n"
     ]
    }
   ],
   "source": [
    "# (2) 접두어 문자 비교 판단\n",
    "print(oneLine.startswith('this'))\n",
    "print(oneLine.startswith('that'))"
   ]
  },
  {
   "cell_type": "code",
   "execution_count": 49,
   "id": "253346ca",
   "metadata": {},
   "outputs": [
    {
     "name": "stdout",
     "output_type": "stream",
     "text": [
      "that is one line string\n"
     ]
    }
   ],
   "source": [
    "# (3) 문자열 교체\n",
    "print(oneLine.replace('this', 'that'))"
   ]
  },
  {
   "cell_type": "code",
   "execution_count": 50,
   "id": "327282b3",
   "metadata": {},
   "outputs": [
    {
     "name": "stdout",
     "output_type": "stream",
     "text": [
      "문장 :  ['this is', 'multi line', 'string']\n"
     ]
    }
   ],
   "source": [
    "# (4) 문자열 분리(split : 문단 -> 문장\n",
    "multiLine = \"\"\"this is\n",
    "multi line\n",
    "string\"\"\"\n",
    "sent = multiLine.split('\\n')\n",
    "print('문장 : ', sent)"
   ]
  },
  {
   "cell_type": "code",
   "execution_count": 51,
   "id": "e54f098b",
   "metadata": {},
   "outputs": [
    {
     "name": "stdout",
     "output_type": "stream",
     "text": [
      "['this', 'is', 'one', 'line', 'string']\n"
     ]
    }
   ],
   "source": [
    "# (5) 문자열 분리(split)2 : 문장 -> 단어\n",
    "words = oneLine.split(' ') # split(sep = ' ') : default\n",
    "print(words)"
   ]
  },
  {
   "cell_type": "code",
   "execution_count": 52,
   "id": "13ade957",
   "metadata": {},
   "outputs": [
    {
     "name": "stdout",
     "output_type": "stream",
     "text": [
      "this,is,one,line,string\n"
     ]
    }
   ],
   "source": [
    "# (6) 문자열 결합(join) : eksdj -> answkd\n",
    "sent2 = ','.join(words) # '구분자'.join(string)\n",
    "print(sent2)"
   ]
  },
  {
   "cell_type": "markdown",
   "id": "e8d9235a",
   "metadata": {},
   "source": [
    "### 2.4.4 이스케이프 문자 (escape character)\n",
    "* 이스케이프 문자 기능 차단 예"
   ]
  },
  {
   "cell_type": "code",
   "execution_count": 53,
   "id": "8e0bec7e",
   "metadata": {},
   "outputs": [
    {
     "name": "stdout",
     "output_type": "stream",
     "text": [
      "escape 문자 차단\n",
      "\n",
      "출력 이스케이프 문자\n"
     ]
    }
   ],
   "source": [
    "# (1) escape 문자 적용\n",
    "print('escape 문자 차단')\n",
    "print('\\n출력 이스케이프 문자') # \\n : 줄 바꿈 기능"
   ]
  },
  {
   "cell_type": "code",
   "execution_count": 54,
   "id": "85bf174e",
   "metadata": {},
   "outputs": [
    {
     "name": "stdout",
     "output_type": "stream",
     "text": [
      "\\n출력 이스케이프 기능 차단1\n",
      "\\n출력 이스케이프 기능 차단2\n"
     ]
    }
   ],
   "source": [
    "# (2) escape 문자 기능 차단\n",
    "print('\\\\n출력 이스케이프 기능 차단1')\n",
    "print(r'\\n출력 이스케이프 기능 차단2')"
   ]
  },
  {
   "cell_type": "code",
   "execution_count": 55,
   "id": "784e480b",
   "metadata": {},
   "outputs": [
    {
     "name": "stdout",
     "output_type": "stream",
     "text": [
      "path =  C:\\Python\test\n",
      "path =  C:\\Python\\test\n",
      "path =  C:\\Python\\test\n"
     ]
    }
   ],
   "source": [
    "# (3) 경로 표현 : C:\\Python\\test\n",
    "print('path = ', 'C:\\Python\\test')\n",
    "print('path = ', 'C:\\\\Python\\\\test')\n",
    "print('path = ', r'C:\\Python\\test')"
   ]
  }
 ],
 "metadata": {
  "kernelspec": {
   "display_name": "Python 3 (ipykernel)",
   "language": "python",
   "name": "python3"
  },
  "language_info": {
   "codemirror_mode": {
    "name": "ipython",
    "version": 3
   },
   "file_extension": ".py",
   "mimetype": "text/x-python",
   "name": "python",
   "nbconvert_exporter": "python",
   "pygments_lexer": "ipython3",
   "version": "3.9.7"
  }
 },
 "nbformat": 4,
 "nbformat_minor": 5
}
