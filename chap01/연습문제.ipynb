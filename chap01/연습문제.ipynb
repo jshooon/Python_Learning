{
 "cells": [
  {
   "cell_type": "markdown",
   "id": "80cf58ff",
   "metadata": {},
   "source": [
    "# 연습문제"
   ]
  },
  {
   "cell_type": "markdown",
   "id": "e3923c90",
   "metadata": {},
   "source": [
    "### 문제1\n",
    "* <처리조건>\n",
    "* <조건1> 수량 변수 : su = 5\n",
    "* <조건2> 단가 변수 : dan = 800\n",
    "* <조건3> su,dan 변수 주소 확인\n",
    "* <조건4> 금액 계산 = 수량 X 단가\n",
    "* <조건5> 기타 세부내용<출력 화면 예시> 참고"
   ]
  },
  {
   "cell_type": "markdown",
   "id": "4f97cf75",
   "metadata": {},
   "source": [
    "### 출력화면 예시\n",
    "* su 주소 : 1858560352\n",
    "* dan 주소 : 2241324818224\n",
    "* 금액 : 4000"
   ]
  },
  {
   "cell_type": "code",
   "execution_count": 4,
   "id": "e1393387",
   "metadata": {},
   "outputs": [
    {
     "name": "stdout",
     "output_type": "stream",
     "text": [
      "su 주소 :  2997457873328\n",
      "dan 주소 :  2997537872592\n",
      "금액 :  4000\n"
     ]
    }
   ],
   "source": [
    "su = 5\n",
    "dan = 800\n",
    "price = su * dan\n",
    "print('su 주소 : ', id(su))\n",
    "print('dan 주소 : ', id(dan))\n",
    "print('금액 : ', price)"
   ]
  },
  {
   "cell_type": "markdown",
   "id": "33f3c15e",
   "metadata": {},
   "source": [
    "### 문제2\n",
    "* <처리조건> 2차 방정식 : y = 2.5 X x^2 + 3.3 X x + 6 (단x = 2일때)"
   ]
  },
  {
   "cell_type": "markdown",
   "id": "df20b68c",
   "metadata": {},
   "source": [
    "### 출력화면 예시\n",
    "* 2차 방정식 결과 = 22.6"
   ]
  },
  {
   "cell_type": "code",
   "execution_count": 5,
   "id": "55fa47fe",
   "metadata": {},
   "outputs": [
    {
     "name": "stdout",
     "output_type": "stream",
     "text": [
      "2차 방정식 결과 =  22.6\n"
     ]
    }
   ],
   "source": [
    "x = 2 # x = 2일 때 2차 함수\n",
    "y = 2.5 * x**2 + 3.3 * x + 6\n",
    "print('2차 방정식 결과 = ', y)"
   ]
  },
  {
   "cell_type": "markdown",
   "id": "9d4cc101",
   "metadata": {},
   "source": [
    "### 문제3\n",
    "* 지방(fat), 탄수화물(carbohydrate), 단백질(protein), 칼로리의 합계를 계산하는 프로그램을 작성하시오.\n",
    "* <처리조건> \n",
    "* <조건1> 지방, 탄수화물, 단백질의 그램을 키보드로 입력받는다.\n",
    "* <조건2> 총 칼로리 = 지방 * 9 + 단백질 * 4 + 탄수화물 * 4"
   ]
  },
  {
   "cell_type": "markdown",
   "id": "cea253b4",
   "metadata": {},
   "source": [
    "### 출력화면 예시\n",
    "* 지방의 그램을 입력하세요 : 25\n",
    "* 탄수화물의 그램을 입력하세요 : 520\n",
    "* 단백질의 그램을 입력하세요 : 45\n",
    "* 총칼로리 : 2,485 cal"
   ]
  },
  {
   "cell_type": "code",
   "execution_count": 10,
   "id": "aa2fa660",
   "metadata": {},
   "outputs": [
    {
     "name": "stdout",
     "output_type": "stream",
     "text": [
      "지방의 그램을 입력하세요 : 25\n",
      "탄수화물의 그램을 입력하세요 : 520\n",
      "단백질의 그램을 입력하세요 : 45\n",
      "총칼로리 :  2,485 cal\n"
     ]
    }
   ],
   "source": [
    "fat = int(input('지방의 그램을 입력하세요 : '))\n",
    "carbohydrate = int(input('탄수화물의 그램을 입력하세요 : '))\n",
    "protein = int(input('단백질의 그램을 입력하세요 : '))\n",
    "totCalorie = fat * 9 + carbohydrate * 4 + protein * 4\n",
    "print('총칼로리 : ', format(total , '3,d'), 'cal')"
   ]
  },
  {
   "cell_type": "markdown",
   "id": "591e64ab",
   "metadata": {},
   "source": [
    "### 문제4\n",
    "* 3개의 단어를 키보드로 입력 받아서 각 단어의 첫글자를 추출하여 단어의 약자를 출력하시오.\n",
    "* <처리조건>\n",
    "* <조건1> 각 단어 변수(word1, word2, word3) 저장\n",
    "* <조건2> 입력과 출력 구분선 : 문자열 연산\n",
    "* <조건3> 각 변수의 첫 단어만 추출하여 변수(addr) 저장"
   ]
  },
  {
   "cell_type": "markdown",
   "id": "60a754b1",
   "metadata": {},
   "source": [
    "### 출력 화면 예시\n",
    "* 첫번째 단어 : Korea\n",
    "* 두번째 단어 : Baseball\n",
    "* 세번째 단어 : Orgs\n",
    "* =======================\n",
    "* 약자 : KBO"
   ]
  },
  {
   "cell_type": "code",
   "execution_count": 12,
   "id": "c9e611b6",
   "metadata": {},
   "outputs": [
    {
     "name": "stdout",
     "output_type": "stream",
     "text": [
      "첫번째 단어 : Korea\n",
      "두번째 단어 : Baseball\n",
      "세번째 단어 : Orgs\n",
      "================\n",
      "약자 :  KBO\n"
     ]
    }
   ],
   "source": [
    "word1 = input('첫번째 단어 : ')\n",
    "word2 = input('두번째 단어 : ')\n",
    "word3 = input('세번째 단어 : ')\n",
    "addr = word1[0] + word2[0] + word3[0]\n",
    "print('=='*8)\n",
    "print('약자 : ', addr)"
   ]
  }
 ],
 "metadata": {
  "kernelspec": {
   "display_name": "Python 3 (ipykernel)",
   "language": "python",
   "name": "python3"
  },
  "language_info": {
   "codemirror_mode": {
    "name": "ipython",
    "version": 3
   },
   "file_extension": ".py",
   "mimetype": "text/x-python",
   "name": "python",
   "nbconvert_exporter": "python",
   "pygments_lexer": "ipython3",
   "version": "3.9.7"
  }
 },
 "nbformat": 4,
 "nbformat_minor": 5
}
